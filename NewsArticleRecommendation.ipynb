{
  "nbformat": 4,
  "nbformat_minor": 0,
  "metadata": {
    "colab": {
      "provenance": [],
      "toc_visible": true,
      "authorship_tag": "ABX9TyMCXIaN8ZVTxoDHerJbOSgF",
      "include_colab_link": true
    },
    "kernelspec": {
      "name": "python3",
      "display_name": "Python 3"
    },
    "language_info": {
      "name": "python"
    }
  },
  "cells": [
    {
      "cell_type": "markdown",
      "metadata": {
        "id": "view-in-github",
        "colab_type": "text"
      },
      "source": [
        "<a href=\"https://colab.research.google.com/github/HDS07/Deep-learning-/blob/main/NewsArticleRecommendation.ipynb\" target=\"_parent\"><img src=\"https://colab.research.google.com/assets/colab-badge.svg\" alt=\"Open In Colab\"/></a>"
      ]
    },
    {
      "cell_type": "code",
      "source": [
        "import pandas as pd\n",
        "from sklearn.feature_extraction.text import TfidfVectorizer\n",
        "from sklearn.metrics.pairwise import cosine_similarity"
      ],
      "metadata": {
        "id": "xA3PlflkbaOL"
      },
      "execution_count": 2,
      "outputs": []
    },
    {
      "cell_type": "code",
      "source": [
        "file_path = '/content/newsdatset.csv'  # Path to your dataset\n",
        "df = pd.read_csv(file_path)"
      ],
      "metadata": {
        "id": "UMYnugxRb7ni"
      },
      "execution_count": 3,
      "outputs": []
    },
    {
      "cell_type": "code",
      "source": [
        "print(df.head())"
      ],
      "metadata": {
        "colab": {
          "base_uri": "https://localhost:8080/"
        },
        "id": "QQWOVaDocK7o",
        "outputId": "4cef8052-7a53-468b-8d47-3a289d1bae75"
      },
      "execution_count": 4,
      "outputs": [
        {
          "output_type": "stream",
          "name": "stdout",
          "text": [
            "   id  Unnamed                                               link  \\\n",
            "0   0        0  http://techcrunch.com/2020/09/07/vodafone-idea...   \n",
            "1   1        1  http://techcrunch.com/2020/09/16/facebook-addr...   \n",
            "2   2        2  http://techcrunch.com/2020/09/14/youtube-launc...   \n",
            "3   3        3  http://techcrunch.com/2020/09/09/groww-an-inve...   \n",
            "4   4        4  http://techcrunch.com/2020/09/15/lanzatech-is-...   \n",
            "\n",
            "                                                text  \\\n",
            "0  Vodafone Idea, one of the largest telecom oper...   \n",
            "1  At the beginning of the previous decade, Faceb...   \n",
            "2  As TikTok’s fate in the U.S. remains murky, Yo...   \n",
            "3  Even as more than 150 million people are using...   \n",
            "4  As part of the continuing global rollout of La...   \n",
            "\n",
            "                                               title                 date  \\\n",
            "0  Indian telecom giant Vodafone Idea rebrands as...  2020-09-07 00:00:00   \n",
            "1  Facebook addresses political controversy in In...  2020-09-16 00:00:00   \n",
            "2  YouTube launches its TikTok rival, YouTube Sho...  2020-09-14 00:00:00   \n",
            "3  Groww, an investment app for millennials in In...  2020-09-09 00:00:00   \n",
            "4  LanzaTech is developing a small-scale waste bi...  2020-09-15 00:00:00   \n",
            "\n",
            "                                            keywords  \\\n",
            "0  ['rebrands', 'idea', 'vi', 'giant', 'brand', '...   \n",
            "1  ['opportunities', 'whatsapp', 'controversy', '...   \n",
            "2  ['rival', 'video', 'feature', 'access', 'youtu...   \n",
            "3  ['world', 'yc', 'continuity', 'stocks', 'groww...   \n",
            "4  ['production', 'distributed', 'developing', 's...   \n",
            "\n",
            "                                             summary  \\\n",
            "0  Vodafone Idea, one of the largest telecom oper...   \n",
            "1  Politicians in the country today heavily rely ...   \n",
            "2  As TikTok’s fate in the U.S. remains murky, Yo...   \n",
            "3  YC Continuity, the growth-stage investment fun...   \n",
            "4  As part of the continuing global rollout of La...   \n",
            "\n",
            "                                       title_summary  \n",
            "0  Indian telecom giant Vodafone Idea rebrands as...  \n",
            "1  Facebook addresses political controversy in In...  \n",
            "2  YouTube launches its TikTok rival, YouTube Sho...  \n",
            "3  Groww, an investment app for millennials in In...  \n",
            "4  LanzaTech is developing a small-scale waste bi...  \n"
          ]
        }
      ]
    },
    {
      "cell_type": "code",
      "source": [
        "df['keywords_str'] = df['keywords'].apply(lambda x: ' '.join(str(item) for item in x) if isinstance(x, list) else str(x))"
      ],
      "metadata": {
        "id": "zGgioSykcQe-"
      },
      "execution_count": 8,
      "outputs": []
    },
    {
      "cell_type": "code",
      "source": [
        "tfidf = TfidfVectorizer(stop_words='english')\n"
      ],
      "metadata": {
        "id": "ePjG7g2Dcn-j"
      },
      "execution_count": 9,
      "outputs": []
    },
    {
      "cell_type": "code",
      "source": [
        "tfidf_matrix = tfidf.fit_transform(df['keywords_str'])"
      ],
      "metadata": {
        "id": "0yEvnXCHcrQu"
      },
      "execution_count": 10,
      "outputs": []
    },
    {
      "cell_type": "code",
      "source": [
        "cosine_sim = cosine_similarity(tfidf_matrix, tfidf_matrix)"
      ],
      "metadata": {
        "id": "k49IbYQdcuO6"
      },
      "execution_count": 11,
      "outputs": []
    },
    {
      "cell_type": "code",
      "source": [
        "def recommend_articles_by_keyword(keyword, df, num_recommendations=5):\n",
        "  matching_articles = df[df['keywords_str'].str.contains(keyword, case=False)]\n",
        "  if matching_articles.empty:\n",
        "    return \"No matching articles found.\"\n",
        "  article_index = matching_articles.index[0]\n",
        "  sim_scores = list(enumerate(cosine_sim[article_index]))\n",
        "  sim_scores = sorted(sim_scores, key=lambda x: x[1], reverse=True)\n",
        "  sim_scores = sim_scores[1:num_recommendations + 1]\n",
        "  article_indices = [i[0] for i in sim_scores]\n",
        "  return df[['id', 'title', 'link']].iloc[article_indices]\n"
      ],
      "metadata": {
        "id": "CBGPW5HZcw2T"
      },
      "execution_count": 14,
      "outputs": []
    },
    {
      "cell_type": "code",
      "source": [
        "keyword = \"america\"\n",
        "num_recommendations = 5\n",
        "recommended_articles = recommend_articles_by_keyword(keyword, df, num_recommendations)\n"
      ],
      "metadata": {
        "id": "0BqbLfIAdKqB"
      },
      "execution_count": 31,
      "outputs": []
    },
    {
      "cell_type": "code",
      "source": [
        "pd.set_option('display.max_colwidth', None)  # Show full column width\n",
        "pd.set_option('display.width', 1000)\n",
        "print(\"Recommended articles based on keyword search:\")\n",
        "print(recommended_articles)"
      ],
      "metadata": {
        "colab": {
          "base_uri": "https://localhost:8080/"
        },
        "id": "AFW9ixjsejp6",
        "outputId": "517b70ce-e875-4ff0-ecee-0a0507894b57"
      },
      "execution_count": 32,
      "outputs": [
        {
          "output_type": "stream",
          "name": "stdout",
          "text": [
            "Recommended articles based on keyword search:\n",
            "        id                                                                 title                                                                                   link\n",
            "875    875                 Finding a Place for Third-Culture Kids in the Culture  https://www.nytimes.com/2020/09/11/t-magazine/luca-guadagnino-third-culture-kids.html\n",
            "1865   965  Italy economy weathering coronavirus better than expected - minister                  https://www.reuters.com/article/italy-economy-gualtieri-idUSR1N2C902A\n",
            "1403   503       Samsung’s Find My Mobile feature now works with offline devices     https://www.theverge.com/2020/8/24/21399627/samsung-find-my-mobile-offline-feature\n",
            "1968  1068                      Australia in first recession for nearly 30 years                                           https://www.bbc.co.uk/news/business-53994318\n",
            "1416   516                     10 entertainment treasures we miss from the 2000s                       https://mashable.com/article/2000s-entertainment-things-we-miss/\n"
          ]
        }
      ]
    }
  ]
}